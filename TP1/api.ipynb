{
 "cells": [
  {
   "cell_type": "code",
   "execution_count": 1,
   "metadata": {},
   "outputs": [],
   "source": [
    "import requests\n",
    "import json"
   ]
  },
  {
   "cell_type": "code",
   "execution_count": 12,
   "metadata": {},
   "outputs": [
    {
     "name": "stdout",
     "output_type": "stream",
     "text": [
      "{'File': {'Url': 'https://www.iptc.org/std-dev/photometadata/examples/google-licensable/images/IPTC-GoogleImgSrcPmd_testimg01.jpg', 'FileName': 'IPTC-GoogleImgSrcPmd_testimg01.jpg', 'FileSize': 2003501, 'FileModifyDate': '2024:10:21 21:36:48+00:00', 'FileAccessDate': '2024:10:21 21:36:10+00:00', 'FileInodeChangeDate': '2024:10:21 21:36:48+00:00', 'FileType': 'JPEG', 'FileTypeExtension': 'jpg', 'MIMEType': 'image/jpeg', 'ExifByteOrder': 'Big-endian (Motorola, MM)', 'CurrentIPTCDigest': '41217b4048df3572ab711f4cdfffe43e', 'ImageWidth': 3000, 'ImageHeight': 2006, 'EncodingProcess': 'Baseline DCT, Huffman coding', 'BitsPerSample': 8, 'ColorComponents': 3, 'YCbCrSubSampling': 'YCbCr4:4:4 (1 1)'}, 'EXIF': {'ImageDescription': 'The railways of the S45 line are running very close to a small street with parking cars', 'XResolution': 72, 'YResolution': 72, 'ResolutionUnit': 'inches', 'Artist': 'Jane Photosty', 'YCbCrPositioning': 'Centered', 'Copyright': '© Copyright 2020 IPTC (Test Images) - www.iptc.org'}, 'IPTC': {'SpecialInstructions': 'This photo is for metadata testing purposes only', 'DateCreated': '2020:01:08', 'TimeCreated': '13:30:01+01:00', 'By-line': 'Jane Photosty', 'Headline': 'The railway and the cars', 'Credit': 'IPTC/Jane Photosty', 'CopyrightNotice': '© Copyright 2020 IPTC (Test Images) - www.iptc.org', 'Caption-Abstract': 'The railways of the S45 line are running very close to a small street with parking cars', 'ApplicationRecordVersion': 4}, 'XMP': {'XMPToolkit': 'Image::ExifTool 11.74', 'Creator': 'Jane Photosty', 'Description': 'The railways of the S45 line are running very close to a small street with parking cars', 'Rights': '© Copyright 2020 IPTC (Test Images) - www.iptc.org', 'Credit': 'IPTC/Jane Photosty', 'DateCreated': '2020:01:08 13:30:01+01:00', 'Headline': 'The railway and the cars', 'Instructions': 'This photo is for metadata testing purposes only', 'CopyrightOwnerID': 'https://iptc.org', 'CopyrightOwnerName': 'IPTC - International Press Telecommunications Council', 'ImageCreatorID': 'https://example.com/photogs/JanePhotosty', 'ImageCreatorName': 'Jane Photosty', 'LicensorID': 'https://iptc.org', 'LicensorName': 'IPTC - International Press Telecommunications Council', 'LicensorURL': 'https://iptc.org/tests/licensing-of-images-test-page/', 'UsageTerms': 'All rights reserved. To use this image an explicit license granted by IPTC is required.', 'WebStatement': 'https://iptc.org/tests/copyright-and-licenses-of-images-test-page/'}, 'APP14': {'DCTEncodeVersion': 100, 'APP14Flags0': '[14], Encoded with Blend=1 downsampling', 'APP14Flags1': '(none)', 'ColorTransform': 'YCbCr'}, 'Composite': {'ImageSize': '3000x2006', 'Megapixels': 6.0, 'DateTimeCreated': '2020:01:08 13:30:01+01:00', 'DateTimeOriginal': '2020:01:08 13:30:01+01:00'}}\n"
     ]
    }
   ],
   "source": [
    "url = \"https://metadata-extractor.p.rapidapi.com/\"\n",
    "\n",
    "\n",
    "headers = {\n",
    "\t\"x-rapidapi-key\": \"519967ec58msh8f8329a6c2932aap1db175jsnb84000c3ed54\",\n",
    "\t\"x-rapidapi-host\": \"metadata-extractor.p.rapidapi.com\"\n",
    "}\n",
    "file_path = r\"C:\\Users\\duboi\\MA2TAC\\tac\\TP1\\pdf_files\\KB_JB92_1860-02-09_01-00003.pdf\"\n",
    "\n",
    "response = requests.get(url, headers=headers, params=querystring)\n",
    "\n",
    "print(response.json())"
   ]
  },
  {
   "cell_type": "code",
   "execution_count": 8,
   "metadata": {},
   "outputs": [
    {
     "name": "stdout",
     "output_type": "stream",
     "text": [
      "Failed to extract metadata. Status code: 400\n",
      "Response: {\"message\":\"400, bad request\"}\n"
     ]
    }
   ],
   "source": [
    "import requests\n",
    "import json\n",
    "\n",
    "# API details for Metadata Extractor from RapidAPI\n",
    "url = \"https://metadata-extractor.p.rapidapi.com/\"\n",
    "\n",
    "headers = {\n",
    "    'x-rapidapi-key': \"519967ec58msh8f8329a6c2932aap1db175jsnb84000c3ed54\",  # Replace with your actual RapidAPI key\n",
    "    'x-rapidapi-host': \"metadata-extractor.p.rapidapi.com\"\n",
    "}\n",
    "\n",
    "# Specify the file path of the file (PDF, image, etc.) you want to extract metadata from\n",
    "file_path = r\"C:\\Users\\duboi\\MA2TAC\\tac\\TP1\\pdf_files\\KB_JB92_1860-02-09_01-00003.pdf\"\n",
    "\n",
    "# Prepare the file to send with the request\n",
    "files = {\n",
    "    'file': open(file_path, 'rb')  # Open the file in binary mode\n",
    "}\n",
    "\n",
    "# Send the request to the Metadata Extractor API\n",
    "response = requests.post(url, headers=headers, files=files)\n",
    "\n",
    "# Check if the request was successful\n",
    "if response.status_code == 200:\n",
    "    # Parse and print the extracted metadata\n",
    "    metadata = json.loads(response.text)\n",
    "    print(\"Extracted Metadata:\\n\", json.dumps(metadata, indent=4))  # Pretty print the metadata\n",
    "else:\n",
    "    print(f\"Failed to extract metadata. Status code: {response.status_code}\")\n",
    "    print(\"Response:\", response.text)\n"
   ]
  }
 ],
 "metadata": {
  "kernelspec": {
   "display_name": "base",
   "language": "python",
   "name": "python3"
  },
  "language_info": {
   "codemirror_mode": {
    "name": "ipython",
    "version": 3
   },
   "file_extension": ".py",
   "mimetype": "text/x-python",
   "name": "python",
   "nbconvert_exporter": "python",
   "pygments_lexer": "ipython3",
   "version": "3.12.4"
  }
 },
 "nbformat": 4,
 "nbformat_minor": 2
}
