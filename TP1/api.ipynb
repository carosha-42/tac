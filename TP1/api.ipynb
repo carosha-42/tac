{
 "cells": [
  {
   "cell_type": "code",
   "execution_count": 3,
   "metadata": {},
   "outputs": [
    {
     "name": "stdout",
     "output_type": "stream",
     "text": [
      "Failed to extract metadata. Status code: 400\n",
      "Response: {\"message\":\"400, bad request\"}\n"
     ]
    }
   ],
   "source": [
    "import requests\n",
    "import json\n",
    "\n",
    "# API details for Metadata Extractor from RapidAPI\n",
    "url = \"https://metadata-extractor.p.rapidapi.com/\"\n",
    "\n",
    "headers = {\n",
    "    'x-rapidapi-key': \"519967ec58msh8f8329a6c2932aap1db175jsnb84000c3ed54\",  # Replace with your actual RapidAPI key\n",
    "    'x-rapidapi-host': \"metadata-extractor.p.rapidapi.com\"\n",
    "}\n",
    "\n",
    "# où est le pdf\n",
    "file_path = r\"C:\\Users\\duboi\\MA2TAC\\tac\\TP1\\pdf_files\\KB_JB92_1860-02-09_01-00003.pdf\"\n",
    "\n",
    "\n",
    "files = {\n",
    "    'file': open(file_path, 'rb')  \n",
    "}\n",
    "\n",
    "# request\n",
    "response = requests.post(url, headers=headers, files=files)\n",
    "\n",
    "# check le request\n",
    "if response.status_code == 200:\n",
    "    \n",
    "    metadata = json.loads(response.text)\n",
    "    print(\"Extracted Metadata:\\n\", json.dumps(metadata, indent=4)) \n",
    "else:\n",
    "    print(f\"Failed to extract metadata. Status code: {response.status_code}\")\n",
    "    print(\"Response:\", response.text)\n"
   ]
  },
  {
   "cell_type": "code",
   "execution_count": 4,
   "metadata": {},
   "outputs": [
    {
     "name": "stderr",
     "output_type": "stream",
     "text": [
      "warning: could not open directory 'TP1/TP1/': No such file or directory\n",
      "fatal: pathspec 'TP1/api_script.py' did not match any files\n"
     ]
    },
    {
     "name": "stdout",
     "output_type": "stream",
     "text": [
      "On branch main\n",
      "Your branch is up to date with 'origin/main'.\n",
      "\n",
      "Changes not staged for commit:\n",
      "  (use \"git add/rm <file>...\" to update what will be committed)\n",
      "  (use \"git restore <file>...\" to discard changes in working directory)\n",
      "\tmodified:   ../module1/s1_sql.ipynb\n",
      "\tdeleted:    ../module1/s3_scrape.ipynb\n",
      "\n",
      "Untracked files:\n",
      "  (use \"git add <file>...\" to include in what will be committed)\n",
      "\tapi.ipynb\n",
      "\t../hello.py\n",
      "\n",
      "no changes added to commit (use \"git add\" and/or \"git commit -a\")\n"
     ]
    },
    {
     "name": "stderr",
     "output_type": "stream",
     "text": [
      "Everything up-to-date\n"
     ]
    }
   ],
   "source": [
    "!git add TP1/api.ipynb\n",
    "!git commit -m \"add API (even though doesn't quite work but code seems ok)\"\n",
    "!git push origin main\n"
   ]
  }
 ],
 "metadata": {
  "kernelspec": {
   "display_name": "base",
   "language": "python",
   "name": "python3"
  },
  "language_info": {
   "codemirror_mode": {
    "name": "ipython",
    "version": 3
   },
   "file_extension": ".py",
   "mimetype": "text/x-python",
   "name": "python",
   "nbconvert_exporter": "python",
   "pygments_lexer": "ipython3",
   "version": "3.12.4"
  }
 },
 "nbformat": 4,
 "nbformat_minor": 2
}
