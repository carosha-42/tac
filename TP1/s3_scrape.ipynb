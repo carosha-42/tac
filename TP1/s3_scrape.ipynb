{
 "cells": [
  {
   "cell_type": "code",
   "execution_count": 2,
   "metadata": {},
   "outputs": [
    {
     "name": "stdout",
     "output_type": "stream",
     "text": [
      "Downloading KB_JB230_1892-08-07_01-0003.pdf...\n",
      "Downloading KB_JB427_1920-01-10_01-00004.pdf...\n",
      "Downloading KB_JB555_1836-02-08_01-00002.pdf...\n",
      "Downloading KB_JB638_1860-05-21_01-00002.pdf...\n",
      "Downloading KB_JB773_1918-11-30_01-00002.pdf...\n",
      "Downloading KB_JB838_1887-12-28_01-00003.pdf...\n",
      "Downloading KB_JB230_1903-10-16_01-0002.pdf...\n",
      "Downloading KB_JB427_1933-01-04_01-00003.pdf...\n",
      "Downloading KB_JB555_1899-01-19_01-00003.pdf...\n",
      "Downloading KB_JB638_1902-12-20_01-00002.pdf...\n",
      "Downloading KB_JB773_1933-10-07_01-00007.pdf...\n",
      "Downloading KB_JB838_1911-08-03_01-00006.pdf...\n",
      "Downloading KB_JB230_1913-07-05_01-0001.pdf...\n",
      "Downloading KB_JB427_1949-07-18_01-00008.pdf...\n",
      "Downloading KB_JB555_1940-03-01_01-00004.pdf...\n",
      "Downloading KB_JB638_1946-07-18_01-00003.pdf...\n",
      "Downloading KB_JB773_1950-07-22_01-00010.pdf...\n",
      "Downloading KB_JB838_1943-09-04_01-00002.pdf...\n",
      "Downloading KB_JB258_1884-09-03_01-0003.pdf...\n",
      "Downloading KB_JB449_1846-05-30_01-00002.pdf...\n",
      "Downloading KB_JB567_1857-02-02_01-00003.pdf...\n",
      "Downloading KB_JB685_1894-05-14_01-0003.pdf...\n",
      "Downloading KB_JB835_1911-04-24_01-00004.pdf...\n",
      "Downloading KB_JB92_1860-02-09_01-00003.pdf...\n",
      "Downloading KB_JB258_1894-12-09_01-0003.pdf...\n",
      "Downloading KB_JB449_1912-01-04_01-00003.pdf...\n",
      "Downloading KB_JB567_1892-01-03_01-00005.pdf...\n",
      "Downloading KB_JB685_1903-01-18_01-0002.pdf...\n",
      "Downloading KB_JB835_1930-04-08_01-00006.pdf...\n",
      "Downloading KB_JB92_1873-02-06_01-00002.pdf...\n",
      "Downloading KB_JB258_1906-01-09_01-0002.pdf...\n",
      "Downloading KB_JB449_1947-08-29_01-00003.pdf...\n",
      "Downloading KB_JB567_1924-08-30_01-00003.pdf...\n",
      "Downloading KB_JB685_1913-06-07_01-0006.pdf...\n",
      "Downloading KB_JB835_1949-09-18_01-00004.pdf...\n",
      "Downloading KB_JB92_1885-09-29_01-00002.pdf...\n",
      "Downloading KB_JB421_1899-05-15_01-00003.pdf...\n",
      "Downloading KB_JB494_1853-10-30_01-0002.pdf...\n",
      "Downloading KB_JB572_1850-03-15_01-00003.pdf...\n",
      "Downloading KB_JB729_1895-10-08_01-00003.pdf...\n",
      "Downloading KB_JB837_1886-12-28_01-00002.pdf...\n",
      "Downloading KB_JB421_1926-10-29_01-00002.pdf...\n",
      "Downloading KB_JB494_1922-09-28_01-0005.pdf...\n",
      "Downloading KB_JB572_1927-07-20_01-00005.pdf...\n",
      "Downloading KB_JB729_1927-11-15_01-00004.pdf...\n",
      "Downloading KB_JB837_1925-01-01_01-00003.pdf...\n",
      "Downloading KB_JB421_1950-04-15_01-00004.pdf...\n",
      "Downloading KB_JB494_1939-12-08_01-0004.pdf...\n",
      "Downloading KB_JB572_1950-06-07_01-00004.pdf...\n",
      "Downloading KB_JB729_1939-10-31_01-00006.pdf...\n",
      "Downloading KB_JB837_1950-12-01_01-00007.pdf...\n",
      "Downloaded 51 PDF files to 'pdf_files/' directory.\n"
     ]
    }
   ],
   "source": [
    "import os\n",
    "import requests\n",
    "from bs4 import BeautifulSoup\n",
    "\n",
    "# url necessaire pour avoir les pdf\n",
    "root_url = \"https://max.de.wilde.web.ulb.be/camille/\"\n",
    "\n",
    "# nouveau folder\n",
    "os.makedirs(\"pdf_files\", exist_ok=True)\n",
    "\n",
    "# process necessary for downloading\n",
    "response = requests.get(root_url)\n",
    "soup = BeautifulSoup(response.text, 'html.parser')\n",
    "\n",
    "pdf_links = []\n",
    "for link in soup.find_all('a', href=True):\n",
    "    href = link['href']\n",
    "    if href.endswith('.pdf'):\n",
    "        pdf_links.append(root_url + href)\n",
    "\n",
    "for pdf_link in pdf_links:\n",
    "    pdf_name = pdf_link.split('/')[-1]\n",
    "    pdf_path = os.path.join(\"pdf_files\", pdf_name)\n",
    "    \n",
    "    print(f\"Downloading {pdf_name}...\")\n",
    "    response = requests.get(pdf_link)\n",
    "    with open(pdf_path, 'wb') as file:\n",
    "        file.write(response.content)\n",
    "\n",
    "print(f\"Downloaded {len(pdf_links)} PDF files to 'pdf_files/' directory.\")\n"
   ]
  },
  {
   "cell_type": "code",
   "execution_count": 1,
   "metadata": {},
   "outputs": [
    {
     "name": "stderr",
     "output_type": "stream",
     "text": [
      "warning: could not open directory 'TP1/TP1/': No such file or directory\n",
      "fatal: pathspec 'TP1/s3_scrape.ipynb' did not match any files\n"
     ]
    },
    {
     "name": "stdout",
     "output_type": "stream",
     "text": [
      "On branch main\n",
      "Your branch is ahead of 'origin/main' by 1 commit.\n",
      "  (use \"git push\" to publish your local commits)\n",
      "\n",
      "Changes not staged for commit:\n",
      "  (use \"git add/rm <file>...\" to update what will be committed)\n",
      "  (use \"git restore <file>...\" to discard changes in working directory)\n",
      "\tdeleted:    ../module1/s3_scrape.ipynb\n",
      "\n",
      "Untracked files:\n",
      "  (use \"git add <file>...\" to include in what will be committed)\n",
      "\ts3_scrape.ipynb\n",
      "\t../hello.py\n",
      "\n",
      "no changes added to commit (use \"git add\" and/or \"git commit -a\")\n"
     ]
    },
    {
     "name": "stderr",
     "output_type": "stream",
     "text": [
      "To github.com:carosha-42/tac.git\n",
      "   b075673..01b098d  main -> main\n"
     ]
    }
   ],
   "source": [
    "# création dossier\n",
    "!git add TP1/s3_scrape.ipynb\n",
    "!git commit -m \"Ajout du script dans le dossier tp1\"\n",
    "!git push origin main\n",
    "\n",
    "\n"
   ]
  }
 ],
 "metadata": {
  "kernelspec": {
   "display_name": "base",
   "language": "python",
   "name": "python3"
  },
  "language_info": {
   "codemirror_mode": {
    "name": "ipython",
    "version": 3
   },
   "file_extension": ".py",
   "mimetype": "text/x-python",
   "name": "python",
   "nbconvert_exporter": "python",
   "pygments_lexer": "ipython3",
   "version": "3.12.4"
  }
 },
 "nbformat": 4,
 "nbformat_minor": 4
}
